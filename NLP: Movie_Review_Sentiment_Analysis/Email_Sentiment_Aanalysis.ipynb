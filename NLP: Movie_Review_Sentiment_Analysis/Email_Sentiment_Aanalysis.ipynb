{
  "cells": [
    {
      "cell_type": "markdown",
      "id": "e9cd394a",
      "metadata": {
        "id": "e9cd394a"
      },
      "source": [
        "# MOVIE REVIEW SENTIMENT ANALYSIS (NLP Project)\n",
        "\n",
        "The main aim of this project is to identify the sentiment of the review for a movie. The data is downloaded from KAGGLE.\n",
        "\n",
        "The link to download the data:\n",
        "https://www.kaggle.com/datasets/lakshmi25npathi/imdb-dataset-of-50k-movie-reviews"
      ]
    },
    {
      "cell_type": "code",
      "execution_count": 1,
      "id": "9d4fd027",
      "metadata": {
        "id": "9d4fd027",
        "colab": {
          "base_uri": "https://localhost:8080/"
        },
        "outputId": "feec423d-c7cd-459a-8d4e-7545cdefe530"
      },
      "outputs": [
        {
          "output_type": "stream",
          "name": "stdout",
          "text": [
            "Mounted at /content/gdrive\n"
          ]
        }
      ],
      "source": [
        "import numpy as np\n",
        "import pandas as pd\n",
        "\n",
        "from google.colab import drive\n",
        "drive.mount(\"/content/gdrive\")"
      ]
    },
    {
      "cell_type": "code",
      "source": [
        "df = pd.read_csv('/content/gdrive/My Drive/Colab Notebooks/IMDB Dataset.csv')"
      ],
      "metadata": {
        "id": "XP2JmugkddbN"
      },
      "id": "XP2JmugkddbN",
      "execution_count": null,
      "outputs": []
    },
    {
      "cell_type": "code",
      "source": [
        "df['review'][1]"
      ],
      "metadata": {
        "id": "hK89T7VFe0tN"
      },
      "id": "hK89T7VFe0tN",
      "execution_count": null,
      "outputs": []
    },
    {
      "cell_type": "code",
      "execution_count": null,
      "id": "18525cb6",
      "metadata": {
        "id": "18525cb6",
        "colab": {
          "base_uri": "https://localhost:8080/"
        },
        "outputId": "a291d6ee-f6f6-4aba-d5fd-bb8a2222440f"
      },
      "outputs": [
        {
          "output_type": "execute_result",
          "data": {
            "text/plain": [
              "positive    25000\n",
              "negative    25000\n",
              "Name: sentiment, dtype: int64"
            ]
          },
          "metadata": {},
          "execution_count": 6
        }
      ],
      "source": [
        "df['sentiment'].value_counts() #we can see that the dataset is balanced"
      ]
    },
    {
      "cell_type": "code",
      "execution_count": null,
      "id": "f207966e",
      "metadata": {
        "id": "f207966e",
        "colab": {
          "base_uri": "https://localhost:8080/"
        },
        "outputId": "afad2684-d3f4-4220-c7e6-faa90ffc3a13"
      },
      "outputs": [
        {
          "output_type": "execute_result",
          "data": {
            "text/plain": [
              "review       0\n",
              "sentiment    0\n",
              "dtype: int64"
            ]
          },
          "metadata": {},
          "execution_count": 7
        }
      ],
      "source": [
        "df.isnull().sum()"
      ]
    },
    {
      "cell_type": "code",
      "execution_count": null,
      "id": "ea02910b",
      "metadata": {
        "id": "ea02910b",
        "colab": {
          "base_uri": "https://localhost:8080/"
        },
        "outputId": "ee203a74-b76f-493f-ce8c-492b56393e0d"
      },
      "outputs": [
        {
          "output_type": "execute_result",
          "data": {
            "text/plain": [
              "418"
            ]
          },
          "metadata": {},
          "execution_count": 8
        }
      ],
      "source": [
        "df.duplicated().sum()"
      ]
    },
    {
      "cell_type": "code",
      "execution_count": null,
      "id": "2254cc43",
      "metadata": {
        "id": "2254cc43"
      },
      "outputs": [],
      "source": [
        "df.drop_duplicates(inplace=True)"
      ]
    },
    {
      "cell_type": "code",
      "execution_count": null,
      "id": "8bbdbf38",
      "metadata": {
        "id": "8bbdbf38",
        "colab": {
          "base_uri": "https://localhost:8080/"
        },
        "outputId": "47024c64-debd-4f45-9ff2-2d0d12491548"
      },
      "outputs": [
        {
          "output_type": "execute_result",
          "data": {
            "text/plain": [
              "0"
            ]
          },
          "metadata": {},
          "execution_count": 10
        }
      ],
      "source": [
        "df.duplicated().sum()"
      ]
    },
    {
      "cell_type": "markdown",
      "source": [
        "# Basic Preprocessing"
      ],
      "metadata": {
        "id": "tKHRq0s_dm1Q"
      },
      "id": "tKHRq0s_dm1Q"
    },
    {
      "cell_type": "code",
      "execution_count": 6,
      "id": "b838d547",
      "metadata": {
        "id": "b838d547"
      },
      "outputs": [],
      "source": [
        "# Remove tags\n",
        "# Remove URLS\n",
        "# lowercase\n",
        "# Revomve emojis\n",
        "# Remove stopwords"
      ]
    },
    {
      "cell_type": "code",
      "execution_count": null,
      "id": "ecb881b9",
      "metadata": {
        "id": "ecb881b9"
      },
      "outputs": [],
      "source": [
        "# Remove tags\n",
        "\n",
        "import re\n",
        "def remove_tags(raw_text):\n",
        "    cleaned_text = re.sub(re.compile('<.*?>'), '', raw_text)\n",
        "    return cleaned_text"
      ]
    },
    {
      "cell_type": "code",
      "execution_count": null,
      "id": "670ecc96",
      "metadata": {
        "id": "670ecc96"
      },
      "outputs": [],
      "source": [
        "df['review'] = df['review'].apply(remove_tags)"
      ]
    },
    {
      "cell_type": "code",
      "execution_count": null,
      "id": "b21551de",
      "metadata": {
        "id": "b21551de",
        "colab": {
          "base_uri": "https://localhost:8080/",
          "height": 423
        },
        "outputId": "2d06f7e4-60cd-47a7-a396-57aa5eceec9f"
      },
      "outputs": [
        {
          "output_type": "execute_result",
          "data": {
            "text/html": [
              "\n",
              "  <div id=\"df-b4f6c50d-87ac-4baa-a4dd-5311676d97b9\">\n",
              "    <div class=\"colab-df-container\">\n",
              "      <div>\n",
              "<style scoped>\n",
              "    .dataframe tbody tr th:only-of-type {\n",
              "        vertical-align: middle;\n",
              "    }\n",
              "\n",
              "    .dataframe tbody tr th {\n",
              "        vertical-align: top;\n",
              "    }\n",
              "\n",
              "    .dataframe thead th {\n",
              "        text-align: right;\n",
              "    }\n",
              "</style>\n",
              "<table border=\"1\" class=\"dataframe\">\n",
              "  <thead>\n",
              "    <tr style=\"text-align: right;\">\n",
              "      <th></th>\n",
              "      <th>review</th>\n",
              "      <th>sentiment</th>\n",
              "    </tr>\n",
              "  </thead>\n",
              "  <tbody>\n",
              "    <tr>\n",
              "      <th>0</th>\n",
              "      <td>One of the other reviewers has mentioned that ...</td>\n",
              "      <td>positive</td>\n",
              "    </tr>\n",
              "    <tr>\n",
              "      <th>1</th>\n",
              "      <td>A wonderful little production. The filming tec...</td>\n",
              "      <td>positive</td>\n",
              "    </tr>\n",
              "    <tr>\n",
              "      <th>2</th>\n",
              "      <td>I thought this was a wonderful way to spend ti...</td>\n",
              "      <td>positive</td>\n",
              "    </tr>\n",
              "    <tr>\n",
              "      <th>3</th>\n",
              "      <td>Basically there's a family where a little boy ...</td>\n",
              "      <td>negative</td>\n",
              "    </tr>\n",
              "    <tr>\n",
              "      <th>4</th>\n",
              "      <td>Petter Mattei's \"Love in the Time of Money\" is...</td>\n",
              "      <td>positive</td>\n",
              "    </tr>\n",
              "    <tr>\n",
              "      <th>...</th>\n",
              "      <td>...</td>\n",
              "      <td>...</td>\n",
              "    </tr>\n",
              "    <tr>\n",
              "      <th>49995</th>\n",
              "      <td>I thought this movie did a down right good job...</td>\n",
              "      <td>positive</td>\n",
              "    </tr>\n",
              "    <tr>\n",
              "      <th>49996</th>\n",
              "      <td>Bad plot, bad dialogue, bad acting, idiotic di...</td>\n",
              "      <td>negative</td>\n",
              "    </tr>\n",
              "    <tr>\n",
              "      <th>49997</th>\n",
              "      <td>I am a Catholic taught in parochial elementary...</td>\n",
              "      <td>negative</td>\n",
              "    </tr>\n",
              "    <tr>\n",
              "      <th>49998</th>\n",
              "      <td>I'm going to have to disagree with the previou...</td>\n",
              "      <td>negative</td>\n",
              "    </tr>\n",
              "    <tr>\n",
              "      <th>49999</th>\n",
              "      <td>No one expects the Star Trek movies to be high...</td>\n",
              "      <td>negative</td>\n",
              "    </tr>\n",
              "  </tbody>\n",
              "</table>\n",
              "<p>49582 rows × 2 columns</p>\n",
              "</div>\n",
              "      <button class=\"colab-df-convert\" onclick=\"convertToInteractive('df-b4f6c50d-87ac-4baa-a4dd-5311676d97b9')\"\n",
              "              title=\"Convert this dataframe to an interactive table.\"\n",
              "              style=\"display:none;\">\n",
              "        \n",
              "  <svg xmlns=\"http://www.w3.org/2000/svg\" height=\"24px\"viewBox=\"0 0 24 24\"\n",
              "       width=\"24px\">\n",
              "    <path d=\"M0 0h24v24H0V0z\" fill=\"none\"/>\n",
              "    <path d=\"M18.56 5.44l.94 2.06.94-2.06 2.06-.94-2.06-.94-.94-2.06-.94 2.06-2.06.94zm-11 1L8.5 8.5l.94-2.06 2.06-.94-2.06-.94L8.5 2.5l-.94 2.06-2.06.94zm10 10l.94 2.06.94-2.06 2.06-.94-2.06-.94-.94-2.06-.94 2.06-2.06.94z\"/><path d=\"M17.41 7.96l-1.37-1.37c-.4-.4-.92-.59-1.43-.59-.52 0-1.04.2-1.43.59L10.3 9.45l-7.72 7.72c-.78.78-.78 2.05 0 2.83L4 21.41c.39.39.9.59 1.41.59.51 0 1.02-.2 1.41-.59l7.78-7.78 2.81-2.81c.8-.78.8-2.07 0-2.86zM5.41 20L4 18.59l7.72-7.72 1.47 1.35L5.41 20z\"/>\n",
              "  </svg>\n",
              "      </button>\n",
              "      \n",
              "  <style>\n",
              "    .colab-df-container {\n",
              "      display:flex;\n",
              "      flex-wrap:wrap;\n",
              "      gap: 12px;\n",
              "    }\n",
              "\n",
              "    .colab-df-convert {\n",
              "      background-color: #E8F0FE;\n",
              "      border: none;\n",
              "      border-radius: 50%;\n",
              "      cursor: pointer;\n",
              "      display: none;\n",
              "      fill: #1967D2;\n",
              "      height: 32px;\n",
              "      padding: 0 0 0 0;\n",
              "      width: 32px;\n",
              "    }\n",
              "\n",
              "    .colab-df-convert:hover {\n",
              "      background-color: #E2EBFA;\n",
              "      box-shadow: 0px 1px 2px rgba(60, 64, 67, 0.3), 0px 1px 3px 1px rgba(60, 64, 67, 0.15);\n",
              "      fill: #174EA6;\n",
              "    }\n",
              "\n",
              "    [theme=dark] .colab-df-convert {\n",
              "      background-color: #3B4455;\n",
              "      fill: #D2E3FC;\n",
              "    }\n",
              "\n",
              "    [theme=dark] .colab-df-convert:hover {\n",
              "      background-color: #434B5C;\n",
              "      box-shadow: 0px 1px 3px 1px rgba(0, 0, 0, 0.15);\n",
              "      filter: drop-shadow(0px 1px 2px rgba(0, 0, 0, 0.3));\n",
              "      fill: #FFFFFF;\n",
              "    }\n",
              "  </style>\n",
              "\n",
              "      <script>\n",
              "        const buttonEl =\n",
              "          document.querySelector('#df-b4f6c50d-87ac-4baa-a4dd-5311676d97b9 button.colab-df-convert');\n",
              "        buttonEl.style.display =\n",
              "          google.colab.kernel.accessAllowed ? 'block' : 'none';\n",
              "\n",
              "        async function convertToInteractive(key) {\n",
              "          const element = document.querySelector('#df-b4f6c50d-87ac-4baa-a4dd-5311676d97b9');\n",
              "          const dataTable =\n",
              "            await google.colab.kernel.invokeFunction('convertToInteractive',\n",
              "                                                     [key], {});\n",
              "          if (!dataTable) return;\n",
              "\n",
              "          const docLinkHtml = 'Like what you see? Visit the ' +\n",
              "            '<a target=\"_blank\" href=https://colab.research.google.com/notebooks/data_table.ipynb>data table notebook</a>'\n",
              "            + ' to learn more about interactive tables.';\n",
              "          element.innerHTML = '';\n",
              "          dataTable['output_type'] = 'display_data';\n",
              "          await google.colab.output.renderOutput(dataTable, element);\n",
              "          const docLink = document.createElement('div');\n",
              "          docLink.innerHTML = docLinkHtml;\n",
              "          element.appendChild(docLink);\n",
              "        }\n",
              "      </script>\n",
              "    </div>\n",
              "  </div>\n",
              "  "
            ],
            "text/plain": [
              "                                                  review sentiment\n",
              "0      One of the other reviewers has mentioned that ...  positive\n",
              "1      A wonderful little production. The filming tec...  positive\n",
              "2      I thought this was a wonderful way to spend ti...  positive\n",
              "3      Basically there's a family where a little boy ...  negative\n",
              "4      Petter Mattei's \"Love in the Time of Money\" is...  positive\n",
              "...                                                  ...       ...\n",
              "49995  I thought this movie did a down right good job...  positive\n",
              "49996  Bad plot, bad dialogue, bad acting, idiotic di...  negative\n",
              "49997  I am a Catholic taught in parochial elementary...  negative\n",
              "49998  I'm going to have to disagree with the previou...  negative\n",
              "49999  No one expects the Star Trek movies to be high...  negative\n",
              "\n",
              "[49582 rows x 2 columns]"
            ]
          },
          "metadata": {},
          "execution_count": 14
        }
      ],
      "source": [
        "df"
      ]
    },
    {
      "cell_type": "code",
      "execution_count": null,
      "id": "ed559c85",
      "metadata": {
        "id": "ed559c85"
      },
      "outputs": [],
      "source": [
        "#Remove URLS \n",
        "\n",
        "import re\n",
        "def remove_urls (vTEXT):\n",
        "    vTEXT = re.sub(r'(https|http)?:\\/\\/(\\w|\\.|\\/|\\?|\\=|\\&|\\%)*\\b', '', vTEXT, flags=re.MULTILINE)\n",
        "    return(vTEXT)"
      ]
    },
    {
      "cell_type": "code",
      "execution_count": null,
      "id": "2b447724",
      "metadata": {
        "id": "2b447724"
      },
      "outputs": [],
      "source": [
        "df['review'] = df['review'].apply(remove_urls)"
      ]
    },
    {
      "cell_type": "code",
      "execution_count": null,
      "id": "1e03f81e",
      "metadata": {
        "id": "1e03f81e"
      },
      "outputs": [],
      "source": [
        "#LOWER CASING\n",
        "\n",
        "df['review'] = df['review'].apply(lambda x:x.lower())"
      ]
    },
    {
      "cell_type": "code",
      "execution_count": null,
      "id": "55c20733",
      "metadata": {
        "id": "55c20733"
      },
      "outputs": [],
      "source": [
        "#STOP WORDS REMOVAL\n",
        "\n",
        "#from nltk.corpus import stopwords\n",
        "#sw_list = stopwords.words('english')"
      ]
    },
    {
      "cell_type": "code",
      "execution_count": null,
      "id": "bdc39311",
      "metadata": {
        "id": "bdc39311"
      },
      "outputs": [],
      "source": [
        "#f['review'] = df['review'].apply(lambda x: [item for item in x.split() if item not in sw_list]).apply(lambda x:\" \".join(x))"
      ]
    },
    {
      "cell_type": "code",
      "execution_count": null,
      "id": "eb3beebd",
      "metadata": {
        "id": "eb3beebd",
        "colab": {
          "base_uri": "https://localhost:8080/",
          "height": 423
        },
        "outputId": "0f1a18e5-3090-4930-f6ce-4e37b042e9c4"
      },
      "outputs": [
        {
          "output_type": "execute_result",
          "data": {
            "text/html": [
              "\n",
              "  <div id=\"df-1f61dd35-662c-4810-8c46-6d30401db98c\">\n",
              "    <div class=\"colab-df-container\">\n",
              "      <div>\n",
              "<style scoped>\n",
              "    .dataframe tbody tr th:only-of-type {\n",
              "        vertical-align: middle;\n",
              "    }\n",
              "\n",
              "    .dataframe tbody tr th {\n",
              "        vertical-align: top;\n",
              "    }\n",
              "\n",
              "    .dataframe thead th {\n",
              "        text-align: right;\n",
              "    }\n",
              "</style>\n",
              "<table border=\"1\" class=\"dataframe\">\n",
              "  <thead>\n",
              "    <tr style=\"text-align: right;\">\n",
              "      <th></th>\n",
              "      <th>review</th>\n",
              "      <th>sentiment</th>\n",
              "    </tr>\n",
              "  </thead>\n",
              "  <tbody>\n",
              "    <tr>\n",
              "      <th>0</th>\n",
              "      <td>one of the other reviewers has mentioned that ...</td>\n",
              "      <td>positive</td>\n",
              "    </tr>\n",
              "    <tr>\n",
              "      <th>1</th>\n",
              "      <td>a wonderful little production. the filming tec...</td>\n",
              "      <td>positive</td>\n",
              "    </tr>\n",
              "    <tr>\n",
              "      <th>2</th>\n",
              "      <td>i thought this was a wonderful way to spend ti...</td>\n",
              "      <td>positive</td>\n",
              "    </tr>\n",
              "    <tr>\n",
              "      <th>3</th>\n",
              "      <td>basically there's a family where a little boy ...</td>\n",
              "      <td>negative</td>\n",
              "    </tr>\n",
              "    <tr>\n",
              "      <th>4</th>\n",
              "      <td>petter mattei's \"love in the time of money\" is...</td>\n",
              "      <td>positive</td>\n",
              "    </tr>\n",
              "    <tr>\n",
              "      <th>...</th>\n",
              "      <td>...</td>\n",
              "      <td>...</td>\n",
              "    </tr>\n",
              "    <tr>\n",
              "      <th>49995</th>\n",
              "      <td>i thought this movie did a down right good job...</td>\n",
              "      <td>positive</td>\n",
              "    </tr>\n",
              "    <tr>\n",
              "      <th>49996</th>\n",
              "      <td>bad plot, bad dialogue, bad acting, idiotic di...</td>\n",
              "      <td>negative</td>\n",
              "    </tr>\n",
              "    <tr>\n",
              "      <th>49997</th>\n",
              "      <td>i am a catholic taught in parochial elementary...</td>\n",
              "      <td>negative</td>\n",
              "    </tr>\n",
              "    <tr>\n",
              "      <th>49998</th>\n",
              "      <td>i'm going to have to disagree with the previou...</td>\n",
              "      <td>negative</td>\n",
              "    </tr>\n",
              "    <tr>\n",
              "      <th>49999</th>\n",
              "      <td>no one expects the star trek movies to be high...</td>\n",
              "      <td>negative</td>\n",
              "    </tr>\n",
              "  </tbody>\n",
              "</table>\n",
              "<p>49582 rows × 2 columns</p>\n",
              "</div>\n",
              "      <button class=\"colab-df-convert\" onclick=\"convertToInteractive('df-1f61dd35-662c-4810-8c46-6d30401db98c')\"\n",
              "              title=\"Convert this dataframe to an interactive table.\"\n",
              "              style=\"display:none;\">\n",
              "        \n",
              "  <svg xmlns=\"http://www.w3.org/2000/svg\" height=\"24px\"viewBox=\"0 0 24 24\"\n",
              "       width=\"24px\">\n",
              "    <path d=\"M0 0h24v24H0V0z\" fill=\"none\"/>\n",
              "    <path d=\"M18.56 5.44l.94 2.06.94-2.06 2.06-.94-2.06-.94-.94-2.06-.94 2.06-2.06.94zm-11 1L8.5 8.5l.94-2.06 2.06-.94-2.06-.94L8.5 2.5l-.94 2.06-2.06.94zm10 10l.94 2.06.94-2.06 2.06-.94-2.06-.94-.94-2.06-.94 2.06-2.06.94z\"/><path d=\"M17.41 7.96l-1.37-1.37c-.4-.4-.92-.59-1.43-.59-.52 0-1.04.2-1.43.59L10.3 9.45l-7.72 7.72c-.78.78-.78 2.05 0 2.83L4 21.41c.39.39.9.59 1.41.59.51 0 1.02-.2 1.41-.59l7.78-7.78 2.81-2.81c.8-.78.8-2.07 0-2.86zM5.41 20L4 18.59l7.72-7.72 1.47 1.35L5.41 20z\"/>\n",
              "  </svg>\n",
              "      </button>\n",
              "      \n",
              "  <style>\n",
              "    .colab-df-container {\n",
              "      display:flex;\n",
              "      flex-wrap:wrap;\n",
              "      gap: 12px;\n",
              "    }\n",
              "\n",
              "    .colab-df-convert {\n",
              "      background-color: #E8F0FE;\n",
              "      border: none;\n",
              "      border-radius: 50%;\n",
              "      cursor: pointer;\n",
              "      display: none;\n",
              "      fill: #1967D2;\n",
              "      height: 32px;\n",
              "      padding: 0 0 0 0;\n",
              "      width: 32px;\n",
              "    }\n",
              "\n",
              "    .colab-df-convert:hover {\n",
              "      background-color: #E2EBFA;\n",
              "      box-shadow: 0px 1px 2px rgba(60, 64, 67, 0.3), 0px 1px 3px 1px rgba(60, 64, 67, 0.15);\n",
              "      fill: #174EA6;\n",
              "    }\n",
              "\n",
              "    [theme=dark] .colab-df-convert {\n",
              "      background-color: #3B4455;\n",
              "      fill: #D2E3FC;\n",
              "    }\n",
              "\n",
              "    [theme=dark] .colab-df-convert:hover {\n",
              "      background-color: #434B5C;\n",
              "      box-shadow: 0px 1px 3px 1px rgba(0, 0, 0, 0.15);\n",
              "      filter: drop-shadow(0px 1px 2px rgba(0, 0, 0, 0.3));\n",
              "      fill: #FFFFFF;\n",
              "    }\n",
              "  </style>\n",
              "\n",
              "      <script>\n",
              "        const buttonEl =\n",
              "          document.querySelector('#df-1f61dd35-662c-4810-8c46-6d30401db98c button.colab-df-convert');\n",
              "        buttonEl.style.display =\n",
              "          google.colab.kernel.accessAllowed ? 'block' : 'none';\n",
              "\n",
              "        async function convertToInteractive(key) {\n",
              "          const element = document.querySelector('#df-1f61dd35-662c-4810-8c46-6d30401db98c');\n",
              "          const dataTable =\n",
              "            await google.colab.kernel.invokeFunction('convertToInteractive',\n",
              "                                                     [key], {});\n",
              "          if (!dataTable) return;\n",
              "\n",
              "          const docLinkHtml = 'Like what you see? Visit the ' +\n",
              "            '<a target=\"_blank\" href=https://colab.research.google.com/notebooks/data_table.ipynb>data table notebook</a>'\n",
              "            + ' to learn more about interactive tables.';\n",
              "          element.innerHTML = '';\n",
              "          dataTable['output_type'] = 'display_data';\n",
              "          await google.colab.output.renderOutput(dataTable, element);\n",
              "          const docLink = document.createElement('div');\n",
              "          docLink.innerHTML = docLinkHtml;\n",
              "          element.appendChild(docLink);\n",
              "        }\n",
              "      </script>\n",
              "    </div>\n",
              "  </div>\n",
              "  "
            ],
            "text/plain": [
              "                                                  review sentiment\n",
              "0      one of the other reviewers has mentioned that ...  positive\n",
              "1      a wonderful little production. the filming tec...  positive\n",
              "2      i thought this was a wonderful way to spend ti...  positive\n",
              "3      basically there's a family where a little boy ...  negative\n",
              "4      petter mattei's \"love in the time of money\" is...  positive\n",
              "...                                                  ...       ...\n",
              "49995  i thought this movie did a down right good job...  positive\n",
              "49996  bad plot, bad dialogue, bad acting, idiotic di...  negative\n",
              "49997  i am a catholic taught in parochial elementary...  negative\n",
              "49998  i'm going to have to disagree with the previou...  negative\n",
              "49999  no one expects the star trek movies to be high...  negative\n",
              "\n",
              "[49582 rows x 2 columns]"
            ]
          },
          "metadata": {},
          "execution_count": 20
        }
      ],
      "source": [
        "df"
      ]
    },
    {
      "cell_type": "code",
      "execution_count": null,
      "id": "7db16b34",
      "metadata": {
        "id": "7db16b34"
      },
      "outputs": [],
      "source": [
        "#EMOJI REMOVAL\n",
        "\n",
        "import re\n",
        "def deEmojify(text):\n",
        "    regrex_pattern = re.compile(pattern = \"[\"\n",
        "        u\"\\U0001F600-\\U0001F64F\"  # emoticons\n",
        "        u\"\\U0001F300-\\U0001F5FF\"  # symbols & pictographs\n",
        "        u\"\\U0001F680-\\U0001F6FF\"  # transport & map symbols\n",
        "        u\"\\U0001F1E0-\\U0001F1FF\"  # flags (iOS)\n",
        "                           \"]+\", flags = re.UNICODE)\n",
        "    return regrex_pattern.sub(r'',text)"
      ]
    },
    {
      "cell_type": "code",
      "execution_count": null,
      "id": "67e22a36",
      "metadata": {
        "id": "67e22a36"
      },
      "outputs": [],
      "source": [
        "df['review'] = df['review'].apply(deEmojify)"
      ]
    },
    {
      "cell_type": "code",
      "execution_count": null,
      "id": "76f61852",
      "metadata": {
        "id": "76f61852"
      },
      "outputs": [],
      "source": [
        "#Tokenization\n",
        "\n",
        "#from nltk.tokenize import word_tokenize\n",
        "\n",
        "#df['review']= df['review'].apply(lambda text: word_tokenize(text))\n",
        "#df.head()"
      ]
    },
    {
      "cell_type": "code",
      "execution_count": null,
      "id": "0931ba76",
      "metadata": {
        "id": "0931ba76"
      },
      "outputs": [],
      "source": [
        "#Stemming\n",
        "#from nltk.stem.porter import PorterStemmer\n",
        "#stemmer = PorterStemmer()\n",
        "\n",
        "#def stem_words(text):\n",
        "#    stem_text = [stemmer.stem(word) for word in text]\n",
        "#    return stem_text\n",
        "\n",
        "#df['review'] = df['review'].apply(lambda text: stem_words(text))\n",
        "#df.head()"
      ]
    },
    {
      "cell_type": "code",
      "execution_count": null,
      "id": "044b8b36",
      "metadata": {
        "id": "044b8b36"
      },
      "outputs": [],
      "source": [
        "X = df.iloc[:,0:1]\n",
        "y = df['sentiment']"
      ]
    },
    {
      "cell_type": "code",
      "execution_count": null,
      "id": "c2f50b0d",
      "metadata": {
        "id": "c2f50b0d",
        "outputId": "e8c59878-6d7d-4514-8a37-3960eb3561db",
        "colab": {
          "base_uri": "https://localhost:8080/",
          "height": 423
        }
      },
      "outputs": [
        {
          "output_type": "execute_result",
          "data": {
            "text/html": [
              "\n",
              "  <div id=\"df-c99c4800-3d3a-4af4-8e05-da34032bb476\">\n",
              "    <div class=\"colab-df-container\">\n",
              "      <div>\n",
              "<style scoped>\n",
              "    .dataframe tbody tr th:only-of-type {\n",
              "        vertical-align: middle;\n",
              "    }\n",
              "\n",
              "    .dataframe tbody tr th {\n",
              "        vertical-align: top;\n",
              "    }\n",
              "\n",
              "    .dataframe thead th {\n",
              "        text-align: right;\n",
              "    }\n",
              "</style>\n",
              "<table border=\"1\" class=\"dataframe\">\n",
              "  <thead>\n",
              "    <tr style=\"text-align: right;\">\n",
              "      <th></th>\n",
              "      <th>review</th>\n",
              "    </tr>\n",
              "  </thead>\n",
              "  <tbody>\n",
              "    <tr>\n",
              "      <th>0</th>\n",
              "      <td>one of the other reviewers has mentioned that ...</td>\n",
              "    </tr>\n",
              "    <tr>\n",
              "      <th>1</th>\n",
              "      <td>a wonderful little production. the filming tec...</td>\n",
              "    </tr>\n",
              "    <tr>\n",
              "      <th>2</th>\n",
              "      <td>i thought this was a wonderful way to spend ti...</td>\n",
              "    </tr>\n",
              "    <tr>\n",
              "      <th>3</th>\n",
              "      <td>basically there's a family where a little boy ...</td>\n",
              "    </tr>\n",
              "    <tr>\n",
              "      <th>4</th>\n",
              "      <td>petter mattei's \"love in the time of money\" is...</td>\n",
              "    </tr>\n",
              "    <tr>\n",
              "      <th>...</th>\n",
              "      <td>...</td>\n",
              "    </tr>\n",
              "    <tr>\n",
              "      <th>49995</th>\n",
              "      <td>i thought this movie did a down right good job...</td>\n",
              "    </tr>\n",
              "    <tr>\n",
              "      <th>49996</th>\n",
              "      <td>bad plot, bad dialogue, bad acting, idiotic di...</td>\n",
              "    </tr>\n",
              "    <tr>\n",
              "      <th>49997</th>\n",
              "      <td>i am a catholic taught in parochial elementary...</td>\n",
              "    </tr>\n",
              "    <tr>\n",
              "      <th>49998</th>\n",
              "      <td>i'm going to have to disagree with the previou...</td>\n",
              "    </tr>\n",
              "    <tr>\n",
              "      <th>49999</th>\n",
              "      <td>no one expects the star trek movies to be high...</td>\n",
              "    </tr>\n",
              "  </tbody>\n",
              "</table>\n",
              "<p>49582 rows × 1 columns</p>\n",
              "</div>\n",
              "      <button class=\"colab-df-convert\" onclick=\"convertToInteractive('df-c99c4800-3d3a-4af4-8e05-da34032bb476')\"\n",
              "              title=\"Convert this dataframe to an interactive table.\"\n",
              "              style=\"display:none;\">\n",
              "        \n",
              "  <svg xmlns=\"http://www.w3.org/2000/svg\" height=\"24px\"viewBox=\"0 0 24 24\"\n",
              "       width=\"24px\">\n",
              "    <path d=\"M0 0h24v24H0V0z\" fill=\"none\"/>\n",
              "    <path d=\"M18.56 5.44l.94 2.06.94-2.06 2.06-.94-2.06-.94-.94-2.06-.94 2.06-2.06.94zm-11 1L8.5 8.5l.94-2.06 2.06-.94-2.06-.94L8.5 2.5l-.94 2.06-2.06.94zm10 10l.94 2.06.94-2.06 2.06-.94-2.06-.94-.94-2.06-.94 2.06-2.06.94z\"/><path d=\"M17.41 7.96l-1.37-1.37c-.4-.4-.92-.59-1.43-.59-.52 0-1.04.2-1.43.59L10.3 9.45l-7.72 7.72c-.78.78-.78 2.05 0 2.83L4 21.41c.39.39.9.59 1.41.59.51 0 1.02-.2 1.41-.59l7.78-7.78 2.81-2.81c.8-.78.8-2.07 0-2.86zM5.41 20L4 18.59l7.72-7.72 1.47 1.35L5.41 20z\"/>\n",
              "  </svg>\n",
              "      </button>\n",
              "      \n",
              "  <style>\n",
              "    .colab-df-container {\n",
              "      display:flex;\n",
              "      flex-wrap:wrap;\n",
              "      gap: 12px;\n",
              "    }\n",
              "\n",
              "    .colab-df-convert {\n",
              "      background-color: #E8F0FE;\n",
              "      border: none;\n",
              "      border-radius: 50%;\n",
              "      cursor: pointer;\n",
              "      display: none;\n",
              "      fill: #1967D2;\n",
              "      height: 32px;\n",
              "      padding: 0 0 0 0;\n",
              "      width: 32px;\n",
              "    }\n",
              "\n",
              "    .colab-df-convert:hover {\n",
              "      background-color: #E2EBFA;\n",
              "      box-shadow: 0px 1px 2px rgba(60, 64, 67, 0.3), 0px 1px 3px 1px rgba(60, 64, 67, 0.15);\n",
              "      fill: #174EA6;\n",
              "    }\n",
              "\n",
              "    [theme=dark] .colab-df-convert {\n",
              "      background-color: #3B4455;\n",
              "      fill: #D2E3FC;\n",
              "    }\n",
              "\n",
              "    [theme=dark] .colab-df-convert:hover {\n",
              "      background-color: #434B5C;\n",
              "      box-shadow: 0px 1px 3px 1px rgba(0, 0, 0, 0.15);\n",
              "      filter: drop-shadow(0px 1px 2px rgba(0, 0, 0, 0.3));\n",
              "      fill: #FFFFFF;\n",
              "    }\n",
              "  </style>\n",
              "\n",
              "      <script>\n",
              "        const buttonEl =\n",
              "          document.querySelector('#df-c99c4800-3d3a-4af4-8e05-da34032bb476 button.colab-df-convert');\n",
              "        buttonEl.style.display =\n",
              "          google.colab.kernel.accessAllowed ? 'block' : 'none';\n",
              "\n",
              "        async function convertToInteractive(key) {\n",
              "          const element = document.querySelector('#df-c99c4800-3d3a-4af4-8e05-da34032bb476');\n",
              "          const dataTable =\n",
              "            await google.colab.kernel.invokeFunction('convertToInteractive',\n",
              "                                                     [key], {});\n",
              "          if (!dataTable) return;\n",
              "\n",
              "          const docLinkHtml = 'Like what you see? Visit the ' +\n",
              "            '<a target=\"_blank\" href=https://colab.research.google.com/notebooks/data_table.ipynb>data table notebook</a>'\n",
              "            + ' to learn more about interactive tables.';\n",
              "          element.innerHTML = '';\n",
              "          dataTable['output_type'] = 'display_data';\n",
              "          await google.colab.output.renderOutput(dataTable, element);\n",
              "          const docLink = document.createElement('div');\n",
              "          docLink.innerHTML = docLinkHtml;\n",
              "          element.appendChild(docLink);\n",
              "        }\n",
              "      </script>\n",
              "    </div>\n",
              "  </div>\n",
              "  "
            ],
            "text/plain": [
              "                                                  review\n",
              "0      one of the other reviewers has mentioned that ...\n",
              "1      a wonderful little production. the filming tec...\n",
              "2      i thought this was a wonderful way to spend ti...\n",
              "3      basically there's a family where a little boy ...\n",
              "4      petter mattei's \"love in the time of money\" is...\n",
              "...                                                  ...\n",
              "49995  i thought this movie did a down right good job...\n",
              "49996  bad plot, bad dialogue, bad acting, idiotic di...\n",
              "49997  i am a catholic taught in parochial elementary...\n",
              "49998  i'm going to have to disagree with the previou...\n",
              "49999  no one expects the star trek movies to be high...\n",
              "\n",
              "[49582 rows x 1 columns]"
            ]
          },
          "metadata": {},
          "execution_count": 26
        }
      ],
      "source": [
        "X"
      ]
    },
    {
      "cell_type": "code",
      "execution_count": null,
      "id": "c6014ee0",
      "metadata": {
        "id": "c6014ee0",
        "outputId": "e7155076-4fea-4cb0-ecdf-c915d19ef111",
        "colab": {
          "base_uri": "https://localhost:8080/"
        }
      },
      "outputs": [
        {
          "output_type": "execute_result",
          "data": {
            "text/plain": [
              "0        positive\n",
              "1        positive\n",
              "2        positive\n",
              "3        negative\n",
              "4        positive\n",
              "           ...   \n",
              "49995    positive\n",
              "49996    negative\n",
              "49997    negative\n",
              "49998    negative\n",
              "49999    negative\n",
              "Name: sentiment, Length: 49582, dtype: object"
            ]
          },
          "metadata": {},
          "execution_count": 27
        }
      ],
      "source": [
        "y"
      ]
    },
    {
      "cell_type": "code",
      "execution_count": null,
      "id": "7a4cd34d",
      "metadata": {
        "id": "7a4cd34d"
      },
      "outputs": [],
      "source": [
        "#After Labelling the data"
      ]
    },
    {
      "cell_type": "code",
      "execution_count": null,
      "id": "806d9dab",
      "metadata": {
        "id": "806d9dab"
      },
      "outputs": [],
      "source": [
        "import pickle\n",
        "import xgboost\n",
        "from sklearn.preprocessing import LabelEncoder\n",
        "from xgboost import XGBClassifier\n",
        "from sklearn.naive_bayes import GaussianNB\n",
        "from sklearn.ensemble import RandomForestClassifier\n",
        "from sklearn.model_selection import train_test_split\n",
        "from sklearn.feature_extraction.text import TfidfVectorizer\n",
        "from sklearn.feature_extraction.text import CountVectorizer\n",
        "from sklearn.metrics import accuracy_score,confusion_matrix\n",
        "\n",
        "gnb = GaussianNB()\n",
        "cv = CountVectorizer()\n",
        "xgb = XGBClassifier()\n",
        "encoder = LabelEncoder()\n",
        "tfidf = TfidfVectorizer()\n",
        "rf = RandomForestClassifier()\n",
        "\n",
        "\n",
        "y = encoder.fit_transform(y)\n",
        "X_train,X_test,y_train,y_test = train_test_split(X,y,test_size=0.2,random_state=1)"
      ]
    },
    {
      "cell_type": "code",
      "execution_count": null,
      "id": "e613a0f4",
      "metadata": {
        "id": "e613a0f4"
      },
      "outputs": [],
      "source": [
        "def Bow(train_reviews,test_reviews):\n",
        "    cv = CountVectorizer(max_features=1000)\n",
        "    X_train_bow = cv.fit_transform(train_reviews).toarray()\n",
        "    X_test_bow = cv.transform(test_reviews).toarray()\n",
        "    \n",
        "    return X_train_bow,X_test_bow\n",
        "\n",
        "def bigram(train_reviews,test_reviews):\n",
        "    cv = CountVectorizer(ngram_range=(1,2),max_features=1000)\n",
        "    X_train_bigram = cv.fit_transform(train_reviews).toarray()\n",
        "    X_test_bigram = cv.transform(test_reviews).toarray()\n",
        "    \n",
        "    return X_train_bigram,X_test_bigram\n",
        "\n",
        "def ngram(train_reviews,test_reviews,n):\n",
        "    cv = CountVectorizer(ngram_range=(1,n),max_features=1000)\n",
        "    X_train_ngram = cv.fit_transform(train_reviews).toarray()\n",
        "    X_test_ngram = cv.transform(test_reviews).toarray()\n",
        "    \n",
        "    return X_train_ngram,X_test_ngram\n",
        "\n",
        "#TFIDF\n",
        "def tf(train_reviews,test_reviews):\n",
        "    tfidf = TfidfVectorizer(max_features=1000)\n",
        "    X_train_tfidf = tfidf.fit_transform(train_reviews).toarray()\n",
        "    X_test_tfidf = tfidf.transform(test_reviews)\n",
        "    \n",
        "    return X_train_tfidf,X_test_tfidf\n"
      ]
    },
    {
      "cell_type": "code",
      "execution_count": null,
      "id": "bfac3aef",
      "metadata": {
        "id": "bfac3aef"
      },
      "outputs": [],
      "source": [
        "#Models\n",
        "\n",
        "def RandomForest(X_train_bow,X_test_bow,y_train):\n",
        "    rf = RandomForestClassifier()\n",
        "    rf.fit(X_train_bow,y_train)\n",
        "    #with open('rf.pickle', 'wb') as f:\n",
        "     #pickle.dump(rf, f)\n",
        "    y_pred = rf.predict(X_test_bow)\n",
        "    accuracy=accuracy_score(y_test,y_pred)\n",
        "\n",
        "    return accuracy\n",
        "\n",
        "def Gaussian(X_train_gaus,X_test_gaus,y_train):\n",
        "    gnb = GaussianNB()\n",
        "    gnb.fit(X_train_gaus,y_train)\n",
        "    #with open('nb.pickle', 'wb') as f:\n",
        "     #pickle.dump(rf, f)\n",
        "    y_pred = gnb.predict(X_test_gaus)\n",
        "    accuracy=accuracy_score(y_test,y_pred)\n",
        "    \n",
        "    return accuracy\n",
        "\n",
        "def SVM(X_train_bow,X_test_bow,y_train):\n",
        "    from sklearn import svm\n",
        "    clf = svm.SVC(C=config['SVM']['C'])\n",
        "    clf.fit(X_train_bow,y_train)\n",
        "    #with open('svm.pickle', 'wb') as f:\n",
        "     #pickle.dump(rf, f)\n",
        "    y_pred = clf.predict(X_test_bow)\n",
        "    accuracy=accuracy_score(y_test,y_pred)\n",
        "    \n",
        "    return accuracy\n",
        "\n",
        "def Xgboost(X_train_gaus,X_test_gaus,y_train):\n",
        "    xgb = XGBClassifier()\n",
        "    xgb.fit(X_train_gaus,y_train)\n",
        "    #with open('xgb.pickle', 'wb') as f:\n",
        "     #pickle.dump(rf, f)\n",
        "    y_pred = xgb.predict(X_test_gaus)\n",
        "    accuracy=accuracy_score(y_test,y_pred)\n",
        "    \n",
        "    return accuracy"
      ]
    },
    {
      "cell_type": "markdown",
      "id": "e2c3caa2",
      "metadata": {
        "id": "e2c3caa2"
      },
      "source": [
        "Random Forest"
      ]
    },
    {
      "cell_type": "code",
      "execution_count": null,
      "id": "f34745bc",
      "metadata": {
        "id": "f34745bc",
        "outputId": "f38c8b71-2f83-4fda-cb75-6d24fc9c9d7e",
        "colab": {
          "base_uri": "https://localhost:8080/"
        }
      },
      "outputs": [
        {
          "output_type": "stream",
          "name": "stdout",
          "text": [
            "0.8440052435212262\n"
          ]
        }
      ],
      "source": [
        "X_train_bow,X_test_bow=Bow(X_train['review'],X_test['review'])\n",
        "accuracy=RandomForest(X_train_bow,X_test_bow,y_train)\n",
        "print(accuracy)"
      ]
    },
    {
      "cell_type": "code",
      "execution_count": null,
      "id": "ec936757",
      "metadata": {
        "id": "ec936757"
      },
      "outputs": [],
      "source": [
        "#pickled_model = pickle.load(open('model_rf_bow.pkl', 'rb'))\n",
        "#y_pred = pickled_model.predict(X_test_bow)\n",
        "#accuracy=accuracy_score(y_test,y_pred)\n",
        "#print(accuracy)"
      ]
    },
    {
      "cell_type": "code",
      "execution_count": null,
      "id": "6894889c",
      "metadata": {
        "id": "6894889c",
        "outputId": "eeb3255f-8371-4a4a-bc7a-04207a8452e2"
      },
      "outputs": [
        {
          "name": "stdout",
          "output_type": "stream",
          "text": [
            "0.8305939296158112\n"
          ]
        }
      ],
      "source": [
        "X_train_bigram,X_test_bigram=bigram(X_train['review'],X_test['review'])\n",
        "accuracy=RandomForest(X_train_bigram,X_test_bigram,y_train)\n",
        "print(accuracy)"
      ]
    },
    {
      "cell_type": "code",
      "execution_count": null,
      "id": "6c554ec3",
      "metadata": {
        "id": "6c554ec3",
        "outputId": "5242edeb-9080-4572-f1ee-c1c9bf645715"
      },
      "outputs": [
        {
          "name": "stdout",
          "output_type": "stream",
          "text": [
            "0.8231319955631744\n"
          ]
        }
      ],
      "source": [
        "n=3\n",
        "X_train_ngram,X_test_ngram=ngram(X_train['review'],X_test['review'],n)\n",
        "accuracy=RandomForest(X_train_ngram,X_test_ngram,y_train)\n",
        "print(accuracy)"
      ]
    },
    {
      "cell_type": "code",
      "execution_count": null,
      "id": "3f5260cc",
      "metadata": {
        "id": "3f5260cc",
        "outputId": "e67fcb9a-b881-4373-f837-5e1aa2f00bed"
      },
      "outputs": [
        {
          "name": "stdout",
          "output_type": "stream",
          "text": [
            "0.8298880709892105\n"
          ]
        }
      ],
      "source": [
        "X_train_tfidf,X_test_tfidf=tf(X_train['review'],X_test['review'])\n",
        "accuracy=RandomForest(X_train_tfidf,X_test_tfidf,y_train)\n",
        "print(accuracy)"
      ]
    },
    {
      "cell_type": "markdown",
      "id": "96b7947b",
      "metadata": {
        "id": "96b7947b"
      },
      "source": [
        "Naive Bayes"
      ]
    },
    {
      "cell_type": "code",
      "execution_count": null,
      "id": "8c918e8f",
      "metadata": {
        "id": "8c918e8f",
        "outputId": "04907d08-3835-4623-d469-bf651cea399f"
      },
      "outputs": [
        {
          "name": "stdout",
          "output_type": "stream",
          "text": [
            "0.8129474639507915\n"
          ]
        }
      ],
      "source": [
        "X_train_bow,X_test_bow=Bow(X_train['review'],X_test['review'])\n",
        "accuracy=Gaussian(X_train_bow,X_test_bow,y_train)\n",
        "print(accuracy)"
      ]
    },
    {
      "cell_type": "markdown",
      "id": "ba6f1199",
      "metadata": {
        "id": "ba6f1199"
      },
      "source": [
        "SVM"
      ]
    },
    {
      "cell_type": "code",
      "source": [
        "X_train_bow,X_test_bow=Bow(X_train['review'],X_test['review'])\n",
        "accuracy=SVM(X_train_bow,X_test_bow,y_train)\n",
        "print(accuracy)"
      ],
      "metadata": {
        "id": "9ywMtTwyeD2K"
      },
      "id": "9ywMtTwyeD2K",
      "execution_count": null,
      "outputs": []
    },
    {
      "cell_type": "markdown",
      "id": "5acec6f7",
      "metadata": {
        "id": "5acec6f7"
      },
      "source": [
        "Xgboost"
      ]
    },
    {
      "cell_type": "code",
      "execution_count": null,
      "id": "e122bba7",
      "metadata": {
        "id": "e122bba7",
        "outputId": "33f0bac7-86e4-4d92-861f-456dcd70459c"
      },
      "outputs": [
        {
          "name": "stderr",
          "output_type": "stream",
          "text": [
            "C:\\Users\\rakesh.doddamani\\Anaconda3\\lib\\site-packages\\xgboost\\sklearn.py:1224: UserWarning: The use of label encoder in XGBClassifier is deprecated and will be removed in a future release. To remove this warning, do the following: 1) Pass option use_label_encoder=False when constructing XGBClassifier object; and 2) Encode your labels (y) as integers starting with 0, i.e. 0, 1, 2, ..., [num_class - 1].\n",
            "  warnings.warn(label_encoder_deprecation_msg, UserWarning)\n"
          ]
        },
        {
          "name": "stdout",
          "output_type": "stream",
          "text": [
            "[11:31:32] WARNING: C:/Users/Administrator/workspace/xgboost-win64_release_1.5.1/src/learner.cc:1115: Starting in XGBoost 1.3.0, the default evaluation metric used with the objective 'binary:logistic' was changed from 'error' to 'logloss'. Explicitly set eval_metric if you'd like to restore the old behavior.\n",
            "0.8432993848946254\n"
          ]
        }
      ],
      "source": [
        "X_train_bow,X_test_bow=Bow(X_train['review'],X_test['review'])\n",
        "accuracy=Xgboost(X_train_bow,X_test_bow,y_train)\n",
        "print(accuracy)"
      ]
    },
    {
      "cell_type": "code",
      "execution_count": null,
      "id": "45455fd1",
      "metadata": {
        "id": "45455fd1",
        "outputId": "6204d506-7f28-4eb7-bb19-673f538b580f"
      },
      "outputs": [
        {
          "name": "stderr",
          "output_type": "stream",
          "text": [
            "C:\\Users\\rakesh.doddamani\\Anaconda3\\lib\\site-packages\\xgboost\\sklearn.py:1224: UserWarning: The use of label encoder in XGBClassifier is deprecated and will be removed in a future release. To remove this warning, do the following: 1) Pass option use_label_encoder=False when constructing XGBClassifier object; and 2) Encode your labels (y) as integers starting with 0, i.e. 0, 1, 2, ..., [num_class - 1].\n",
            "  warnings.warn(label_encoder_deprecation_msg, UserWarning)\n"
          ]
        },
        {
          "name": "stdout",
          "output_type": "stream",
          "text": [
            "[11:33:42] WARNING: C:/Users/Administrator/workspace/xgboost-win64_release_1.5.1/src/learner.cc:1115: Starting in XGBoost 1.3.0, the default evaluation metric used with the objective 'binary:logistic' was changed from 'error' to 'logloss'. Explicitly set eval_metric if you'd like to restore the old behavior.\n",
            "0.8408792981748513\n"
          ]
        }
      ],
      "source": [
        "X_train_tfidf,X_test_tfidf=tf(X_train['review'],X_test['review'])\n",
        "accuracy=Xgboost(X_train_tfidf,X_test_tfidf,y_train)\n",
        "print(accuracy)"
      ]
    },
    {
      "cell_type": "markdown",
      "source": [
        "#### Random forest and XGBoost algorithms with TFIDF as a vectorizer performed better when compared to other alogrithms"
      ],
      "metadata": {
        "id": "_FRpTMdEedFB"
      },
      "id": "_FRpTMdEedFB"
    },
    {
      "cell_type": "code",
      "source": [
        "#Now Saving the model with pickle\n",
        "\n",
        "with open('clf.pickle', 'wb') as f:\n",
        "     pickle.dump(clf, f)"
      ],
      "metadata": {
        "id": "IbjdRe_FeOnU"
      },
      "id": "IbjdRe_FeOnU",
      "execution_count": 7,
      "outputs": []
    },
    {
      "cell_type": "code",
      "execution_count": null,
      "id": "22619a55",
      "metadata": {
        "id": "22619a55"
      },
      "outputs": [],
      "source": [
        "# We can load the saved model with pickle\n",
        "        \n",
        "with open('clf.pickle', 'rb') as f:\n",
        "     clf = pickle.load(f)"
      ]
    }
  ],
  "metadata": {
    "kernelspec": {
      "display_name": "Python 3 (ipykernel)",
      "language": "python",
      "name": "python3"
    },
    "language_info": {
      "codemirror_mode": {
        "name": "ipython",
        "version": 3
      },
      "file_extension": ".py",
      "mimetype": "text/x-python",
      "name": "python",
      "nbconvert_exporter": "python",
      "pygments_lexer": "ipython3",
      "version": "3.9.7"
    },
    "colab": {
      "name": "Email_Sentiment_Aanalysis.ipynb",
      "provenance": []
    }
  },
  "nbformat": 4,
  "nbformat_minor": 5
}